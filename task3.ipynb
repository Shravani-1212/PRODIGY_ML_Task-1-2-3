{
 "cells": [
  {
   "cell_type": "code",
   "execution_count": 1,
   "id": "af7cc128-293d-4d3d-b081-0bf8831d22e8",
   "metadata": {},
   "outputs": [
    {
     "name": "stdout",
     "output_type": "stream",
     "text": [
      "Collecting opendatasets\n",
      "  Downloading opendatasets-0.1.22-py3-none-any.whl.metadata (9.2 kB)\n",
      "Collecting tqdm (from opendatasets)\n",
      "  Downloading tqdm-4.66.2-py3-none-any.whl.metadata (57 kB)\n",
      "     ---------------------------------------- 0.0/57.6 kB ? eta -:--:--\n",
      "     ---------------------------------------- 0.0/57.6 kB ? eta -:--:--\n",
      "     ------- -------------------------------- 10.2/57.6 kB ? eta -:--:--\n",
      "     -------------------- ----------------- 30.7/57.6 kB 325.1 kB/s eta 0:00:01\n",
      "     --------------------------- ---------- 41.0/57.6 kB 281.8 kB/s eta 0:00:01\n",
      "     -------------------------------------- 57.6/57.6 kB 378.8 kB/s eta 0:00:00\n",
      "Collecting kaggle (from opendatasets)\n",
      "  Downloading kaggle-1.6.8.tar.gz (84 kB)\n",
      "     ---------------------------------------- 0.0/84.6 kB ? eta -:--:--\n",
      "     ------------- ------------------------ 30.7/84.6 kB 660.6 kB/s eta 0:00:01\n",
      "     -------------------------------------- 84.6/84.6 kB 953.0 kB/s eta 0:00:00\n",
      "  Installing build dependencies: started\n",
      "  Installing build dependencies: finished with status 'done'\n",
      "  Getting requirements to build wheel: started\n",
      "  Getting requirements to build wheel: finished with status 'done'\n",
      "  Installing backend dependencies: started\n",
      "  Installing backend dependencies: finished with status 'done'\n",
      "  Preparing metadata (pyproject.toml): started\n",
      "  Preparing metadata (pyproject.toml): finished with status 'done'\n",
      "Collecting click (from opendatasets)\n",
      "  Downloading click-8.1.7-py3-none-any.whl.metadata (3.0 kB)\n",
      "Requirement already satisfied: colorama in c:\\users\\sgpaw\\appdata\\local\\programs\\python\\python312\\lib\\site-packages (from click->opendatasets) (0.4.6)\n",
      "Requirement already satisfied: six>=1.10 in c:\\users\\sgpaw\\appdata\\local\\programs\\python\\python312\\lib\\site-packages (from kaggle->opendatasets) (1.16.0)\n",
      "Requirement already satisfied: certifi>=2023.7.22 in c:\\users\\sgpaw\\appdata\\local\\programs\\python\\python312\\lib\\site-packages (from kaggle->opendatasets) (2024.2.2)\n",
      "Requirement already satisfied: python-dateutil in c:\\users\\sgpaw\\appdata\\local\\programs\\python\\python312\\lib\\site-packages (from kaggle->opendatasets) (2.8.2)\n",
      "Requirement already satisfied: requests in c:\\users\\sgpaw\\appdata\\local\\programs\\python\\python312\\lib\\site-packages (from kaggle->opendatasets) (2.31.0)\n",
      "Collecting python-slugify (from kaggle->opendatasets)\n",
      "  Downloading python_slugify-8.0.4-py2.py3-none-any.whl.metadata (8.5 kB)\n",
      "Requirement already satisfied: urllib3 in c:\\users\\sgpaw\\appdata\\local\\programs\\python\\python312\\lib\\site-packages (from kaggle->opendatasets) (2.2.0)\n",
      "Requirement already satisfied: bleach in c:\\users\\sgpaw\\appdata\\local\\programs\\python\\python312\\lib\\site-packages (from kaggle->opendatasets) (6.1.0)\n",
      "Requirement already satisfied: webencodings in c:\\users\\sgpaw\\appdata\\local\\programs\\python\\python312\\lib\\site-packages (from bleach->kaggle->opendatasets) (0.5.1)\n",
      "Collecting text-unidecode>=1.3 (from python-slugify->kaggle->opendatasets)\n",
      "  Downloading text_unidecode-1.3-py2.py3-none-any.whl.metadata (2.4 kB)\n",
      "Requirement already satisfied: charset-normalizer<4,>=2 in c:\\users\\sgpaw\\appdata\\local\\programs\\python\\python312\\lib\\site-packages (from requests->kaggle->opendatasets) (3.3.2)\n",
      "Requirement already satisfied: idna<4,>=2.5 in c:\\users\\sgpaw\\appdata\\local\\programs\\python\\python312\\lib\\site-packages (from requests->kaggle->opendatasets) (3.6)\n",
      "Downloading opendatasets-0.1.22-py3-none-any.whl (15 kB)\n",
      "Downloading click-8.1.7-py3-none-any.whl (97 kB)\n",
      "   ---------------------------------------- 0.0/97.9 kB ? eta -:--:--\n",
      "   ---------------- ----------------------- 41.0/97.9 kB 991.0 kB/s eta 0:00:01\n",
      "   ---------------------------------------- 97.9/97.9 kB 1.4 MB/s eta 0:00:00\n",
      "Downloading tqdm-4.66.2-py3-none-any.whl (78 kB)\n",
      "   ---------------------------------------- 0.0/78.3 kB ? eta -:--:--\n",
      "   -------------------- ------------------- 41.0/78.3 kB 1.9 MB/s eta 0:00:01\n",
      "   ---------------------------------------- 78.3/78.3 kB 1.4 MB/s eta 0:00:00\n",
      "Downloading python_slugify-8.0.4-py2.py3-none-any.whl (10 kB)\n",
      "Downloading text_unidecode-1.3-py2.py3-none-any.whl (78 kB)\n",
      "   ---------------------------------------- 0.0/78.2 kB ? eta -:--:--\n",
      "   ------------------------------------ --- 71.7/78.2 kB 1.3 MB/s eta 0:00:01\n",
      "   ---------------------------------------- 78.2/78.2 kB 1.4 MB/s eta 0:00:00\n",
      "Building wheels for collected packages: kaggle\n",
      "  Building wheel for kaggle (pyproject.toml): started\n",
      "  Building wheel for kaggle (pyproject.toml): finished with status 'done'\n",
      "  Created wheel for kaggle: filename=kaggle-1.6.8-py3-none-any.whl size=111970 sha256=2527be21443058bbe3460d73791360ecd83f2843bb362d80cdac1ae4862ff2fb\n",
      "  Stored in directory: c:\\users\\sgpaw\\appdata\\local\\pip\\cache\\wheels\\90\\a0\\a1\\c8af89a81821187aef4675b6e8c18f40a8cdbe8b00fd0e2d76\n",
      "Successfully built kaggle\n",
      "Installing collected packages: text-unidecode, tqdm, python-slugify, click, kaggle, opendatasets\n",
      "Successfully installed click-8.1.7 kaggle-1.6.8 opendatasets-0.1.22 python-slugify-8.0.4 text-unidecode-1.3 tqdm-4.66.2\n"
     ]
    }
   ],
   "source": [
    "!pip install opendatasets"
   ]
  },
  {
   "cell_type": "code",
   "execution_count": 3,
   "id": "2b5240d5-fc81-4f0c-bd35-98400184a3ce",
   "metadata": {},
   "outputs": [],
   "source": [
    "import opendatasets as od\n",
    "\n",
    "import pandas as pd\n",
    "import numpy as np\n",
    "import seaborn as sns\n",
    "import matplotlib.pyplot as plt\n",
    "\n",
    "import os\n",
    "import warnings\n",
    "warnings.filterwarnings(\"ignore\")\n",
    "\n",
    "import cv2\n",
    "\n",
    "from skimage.transform import resize\n",
    "from skimage.io import imread\n",
    "\n",
    "from sklearn.model_selection import train_test_split\n",
    "from sklearn import svm\n",
    "from sklearn.model_selection import GridSearchCV\n",
    "\n",
    "from sklearn.metrics import accuracy_score\n",
    "from sklearn.metrics import classification_report"
   ]
  },
  {
   "cell_type": "code",
   "execution_count": 4,
   "id": "49e813d9-4437-4634-8827-ecabae18d703",
   "metadata": {},
   "outputs": [
    {
     "name": "stdout",
     "output_type": "stream",
     "text": [
      "Please provide your Kaggle credentials to download this dataset. Learn more: http://bit.ly/kaggle-creds\n",
      "Your Kaggle username:"
     ]
    },
    {
     "name": "stdin",
     "output_type": "stream",
     "text": [
      "  shravani1212\n"
     ]
    },
    {
     "name": "stdout",
     "output_type": "stream",
     "text": [
      "Your Kaggle Key:"
     ]
    },
    {
     "name": "stdin",
     "output_type": "stream",
     "text": [
      "  ········\n"
     ]
    },
    {
     "name": "stdout",
     "output_type": "stream",
     "text": [
      "Downloading dogs-cats-images.zip to .\\dogs-cats-images\n"
     ]
    },
    {
     "name": "stderr",
     "output_type": "stream",
     "text": [
      "100%|███████████████████████████████████████████████████████████████████████████████| 435M/435M [01:02<00:00, 7.30MB/s]\n"
     ]
    },
    {
     "name": "stdout",
     "output_type": "stream",
     "text": [
      "\n"
     ]
    }
   ],
   "source": [
    "od.download(\"https://www.kaggle.com/datasets/chetankv/dogs-cats-images?resource=download&select=dataset\")"
   ]
  },
  {
   "cell_type": "code",
   "execution_count": 9,
   "id": "c20baf05-bd8a-4c67-b2a2-62a6a4c51584",
   "metadata": {},
   "outputs": [
    {
     "name": "stdout",
     "output_type": "stream",
     "text": [
      "8000\n"
     ]
    }
   ],
   "source": [
    "dir='dogs-cats-images/dataset/'\n",
    "categories=['cats','dogs']\n",
    "\n",
    "\n",
    "test_dir='dogs-cats-images/dataset/test_set/'\n",
    "train_dir='dogs-cats-images/dataset/training_set/'\n",
    "\n",
    "data=[]\n",
    "\n",
    "for i in categories:\n",
    "  path=os.path.join(train_dir,i)\n",
    "  label=categories.index(i)\n",
    "\n",
    "  for img in os.listdir(path):\n",
    "    imgpath=os.path.join(path,img)\n",
    "    pet_img=cv2.imread(imgpath,0)\n",
    "    pet_img=cv2.resize(pet_img,(50,50))\n",
    "    image=np.array(pet_img).flatten()\n",
    "\n",
    "    data.append([image,label])\n",
    "\n",
    "\n",
    "print(len(data))"
   ]
  },
  {
   "cell_type": "code",
   "execution_count": 11,
   "id": "ac5ce6c7-bfa0-48ca-b0f1-86cccaaf377a",
   "metadata": {},
   "outputs": [
    {
     "name": "stdout",
     "output_type": "stream",
     "text": [
      "[array([ 7,  8,  9, ..., 58, 52, 57], dtype=uint8), 0]\n"
     ]
    }
   ],
   "source": [
    "print(data[7])"
   ]
  },
  {
   "cell_type": "code",
   "execution_count": 12,
   "id": "e2c0c646-0a06-48a8-a156-6734a45c0d4f",
   "metadata": {},
   "outputs": [
    {
     "name": "stdout",
     "output_type": "stream",
     "text": [
      "8000\n"
     ]
    }
   ],
   "source": [
    "features=[]\n",
    "labels=[]\n",
    "\n",
    "for feature,label in data:\n",
    "  features.append(feature)\n",
    "  labels.append(label)\n",
    "\n",
    "print(len(labels))"
   ]
  },
  {
   "cell_type": "code",
   "execution_count": 13,
   "id": "c9c83dad-9e7a-4c6c-96aa-d5d178a7dbe0",
   "metadata": {},
   "outputs": [
    {
     "name": "stdout",
     "output_type": "stream",
     "text": [
      "[ 7  8  9 ... 58 52 57]\n"
     ]
    }
   ],
   "source": [
    "print(features[7])"
   ]
  },
  {
   "cell_type": "code",
   "execution_count": 14,
   "id": "f7a5626c-38c4-490b-9909-58a72158498d",
   "metadata": {},
   "outputs": [],
   "source": [
    "X_train,X_test,y_train,y_test=train_test_split(features,labels,test_size=0.20,random_state=77)"
   ]
  },
  {
   "cell_type": "code",
   "execution_count": 15,
   "id": "4f125d6f-956e-447b-89dc-fbc56659fb97",
   "metadata": {},
   "outputs": [],
   "source": [
    "model=svm.SVC(C=1,kernel='poly',gamma='auto')"
   ]
  },
  {
   "cell_type": "code",
   "execution_count": null,
   "id": "aa9a62c9-3ddb-4964-af31-742ca1afbece",
   "metadata": {},
   "outputs": [],
   "source": [
    "model.fit(X_train,y_train)"
   ]
  },
  {
   "cell_type": "code",
   "execution_count": null,
   "id": "5618d9e9-4813-4e20-9a9f-f4632cce24fd",
   "metadata": {},
   "outputs": [],
   "source": [
    "prediction=model.predict(X_test)"
   ]
  },
  {
   "cell_type": "code",
   "execution_count": null,
   "id": "d8bfc485-cdd5-4ced-bafc-99ae81a5e20e",
   "metadata": {},
   "outputs": [],
   "source": [
    "accuracy=model.score(X_test,y_test)\n",
    "accuracy"
   ]
  },
  {
   "cell_type": "code",
   "execution_count": null,
   "id": "764336f1-1742-423f-aa3a-0ac95dae72f2",
   "metadata": {},
   "outputs": [],
   "source": [
    "# Train SVM model\n",
    "svm_model = SVC(kernel='linear')\n",
    "svm_model.fit(X_train, y_train)\n",
    "\n",
    "# Once the model is trained, you can make predictions\n",
    "y_pred_train = svm_model.predict(X_train)\n",
    "y_pred_test = svm_model.predict(X_test)\n",
    "\n",
    "# You can also evaluate the performance of the model\n",
    "train_accuracy = accuracy_score(y_train, y_pred_train)\n",
    "test_accuracy = accuracy_score(y_test, y_pred_test)\n",
    "\n",
    "print(\"Training Accuracy:\", train_accuracy)\n",
    "print(\"Test Accuracy:\", test_accuracy)\n"
   ]
  },
  {
   "cell_type": "code",
   "execution_count": null,
   "id": "bd6c74d6-da08-48c3-b120-f939bd597b76",
   "metadata": {},
   "outputs": [],
   "source": []
  }
 ],
 "metadata": {
  "kernelspec": {
   "display_name": "Python 3 (ipykernel)",
   "language": "python",
   "name": "python3"
  },
  "language_info": {
   "codemirror_mode": {
    "name": "ipython",
    "version": 3
   },
   "file_extension": ".py",
   "mimetype": "text/x-python",
   "name": "python",
   "nbconvert_exporter": "python",
   "pygments_lexer": "ipython3",
   "version": "3.12.1"
  }
 },
 "nbformat": 4,
 "nbformat_minor": 5
}
